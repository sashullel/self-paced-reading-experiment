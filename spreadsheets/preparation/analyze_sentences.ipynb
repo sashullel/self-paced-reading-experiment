{
 "cells": [
  {
   "cell_type": "markdown",
   "id": "7f9e1481",
   "metadata": {},
   "source": [
    "# imports and loads"
   ]
  },
  {
   "cell_type": "code",
   "execution_count": 36,
   "id": "1b377eec",
   "metadata": {},
   "outputs": [],
   "source": [
    "import numpy as np\n",
    "import pandas as pd\n",
    "from ruts import ReadabilityStats"
   ]
  },
  {
   "cell_type": "code",
   "execution_count": 26,
   "id": "17bfe2e7",
   "metadata": {},
   "outputs": [],
   "source": [
    "with open('my_sentences.txt', 'r', encoding='utf-8') as f:\n",
    "    lines = [line.strip().split(';') for line in f.readlines() if line.strip() and not line.startswith('#')] "
   ]
  },
  {
   "cell_type": "markdown",
   "id": "00289915",
   "metadata": {},
   "source": [
    "1. Тест Флеша-Кинкайда (Flesch-Kincaid)\n",
    "Индекс удобочитаемости Флеша (Flesch Reading Ease, FRES) - измеряет легкость восприятия текста.\n",
    "\n",
    "Формула (для английского), где\n",
    "ASL - средняя длина предложения в словах,\n",
    "ASW - среднее количество слогов в слове.\n",
    "\n",
    "Шкала от 0 до 100, где выше - легче читать.\n",
    "\n",
    "Для русского языка адаптированы похожие формулы с учётом особенностей языка.\n",
    "\n",
    "2. Индекс Колман-Лиау (Coleman-Liau Index)\n",
    "Основан на количестве букв в словах и количестве слов в предложении.\n",
    "\n",
    "Формула, где кол-во букв, слов, предложений\n",
    "\n",
    "Результат - предполагаемый уровень образования, необходимый для понимания текста.\n",
    "\n",
    "3. Индекс SMOG (Simple Measure of Gobbledygook)\n",
    "Оценивает сложность текста по количеству слов с тремя и более слогами в выборке из 30 предложений.\n",
    "\n",
    "Формула, где число полисиллабических слов, число предложений\n",
    "Показывает количество лет обучения, необходимое для понимания текста.\n",
    "\n",
    "Часто используется для оценки медицинских текстов и текстов для широкой аудитории.\n",
    "\n",
    "4. Автоматический индекс удобочитаемости (Automated Readability Index, ARI)\n",
    "Основан на количестве букв и слов в тексте, а не на слогах.\n",
    "\n",
    "Формула, где буквы, слова, предложения\n",
    "Результат - уровень класса в американской системе образования, необходимый для понимания текста.\n",
    "\n",
    "5. Индекс удобочитаемости LIX (Läsbarhetsindex)\n",
    "Разработан Карлом-Хуго Бьёрнссоном, широко используется в скандинавских странах.\n",
    "\n",
    "Формула, где число слов, число предложений, число слов длиной > 6 букв, \n",
    "Чем выше значение, тем сложнее текст:\n",
    "\n",
    "<30 - очень простой текст,\n",
    "\n",
    "30–40 - простой,\n",
    "\n",
    "40–50 - средний уровень,\n",
    "\n",
    "50–60 - сложный,\n",
    "\n",
    "60 - очень сложный."
   ]
  },
  {
   "cell_type": "markdown",
   "id": "bdfd6180",
   "metadata": {},
   "source": [
    "# analysis"
   ]
  },
  {
   "cell_type": "code",
   "execution_count": 37,
   "id": "217745d5",
   "metadata": {},
   "outputs": [],
   "source": [
    "texts, questions, answers, types, idiom_ids, groups = [], [], [], [], [], []\n",
    "for line in lines:\n",
    "      if int(line[3]) != 0:\n",
    "        texts.append(' '.join(line[0].split(' / ')))"
   ]
  },
  {
   "cell_type": "code",
   "execution_count": 38,
   "id": "58cabd80",
   "metadata": {},
   "outputs": [],
   "source": [
    "res = []\n",
    "for i, text in enumerate(texts):\n",
    "    rs = ReadabilityStats(text)\n",
    "    res.append((i, rs.get_stats()))"
   ]
  },
  {
   "cell_type": "code",
   "execution_count": 40,
   "id": "4abb1f10",
   "metadata": {},
   "outputs": [
    {
     "data": {
      "text/html": [
       "<div>\n",
       "<style scoped>\n",
       "    .dataframe tbody tr th:only-of-type {\n",
       "        vertical-align: middle;\n",
       "    }\n",
       "\n",
       "    .dataframe tbody tr th {\n",
       "        vertical-align: top;\n",
       "    }\n",
       "\n",
       "    .dataframe thead th {\n",
       "        text-align: right;\n",
       "    }\n",
       "</style>\n",
       "<table border=\"1\" class=\"dataframe\">\n",
       "  <thead>\n",
       "    <tr style=\"text-align: right;\">\n",
       "      <th></th>\n",
       "      <th>text_id</th>\n",
       "      <th>flesch_kincaid_grade</th>\n",
       "      <th>flesch_reading_easy</th>\n",
       "      <th>coleman_liau_index</th>\n",
       "      <th>smog_index</th>\n",
       "      <th>automated_readability_index</th>\n",
       "      <th>lix</th>\n",
       "    </tr>\n",
       "  </thead>\n",
       "  <tbody>\n",
       "    <tr>\n",
       "      <th>0</th>\n",
       "      <td>0</td>\n",
       "      <td>11.190000</td>\n",
       "      <td>10.935000</td>\n",
       "      <td>15.711667</td>\n",
       "      <td>12.553280</td>\n",
       "      <td>16.667667</td>\n",
       "      <td>87.0</td>\n",
       "    </tr>\n",
       "    <tr>\n",
       "      <th>1</th>\n",
       "      <td>1</td>\n",
       "      <td>8.756667</td>\n",
       "      <td>30.968333</td>\n",
       "      <td>12.961667</td>\n",
       "      <td>8.891154</td>\n",
       "      <td>13.537667</td>\n",
       "      <td>87.0</td>\n",
       "    </tr>\n",
       "    <tr>\n",
       "      <th>2</th>\n",
       "      <td>2</td>\n",
       "      <td>9.973333</td>\n",
       "      <td>20.951667</td>\n",
       "      <td>14.336667</td>\n",
       "      <td>12.553280</td>\n",
       "      <td>15.102667</td>\n",
       "      <td>87.0</td>\n",
       "    </tr>\n",
       "    <tr>\n",
       "      <th>3</th>\n",
       "      <td>3</td>\n",
       "      <td>7.540000</td>\n",
       "      <td>40.985000</td>\n",
       "      <td>11.586667</td>\n",
       "      <td>8.891154</td>\n",
       "      <td>11.972667</td>\n",
       "      <td>87.0</td>\n",
       "    </tr>\n",
       "    <tr>\n",
       "      <th>4</th>\n",
       "      <td>4</td>\n",
       "      <td>12.406667</td>\n",
       "      <td>0.918333</td>\n",
       "      <td>19.378333</td>\n",
       "      <td>15.363328</td>\n",
       "      <td>20.841000</td>\n",
       "      <td>87.0</td>\n",
       "    </tr>\n",
       "  </tbody>\n",
       "</table>\n",
       "</div>"
      ],
      "text/plain": [
       "   text_id  flesch_kincaid_grade  flesch_reading_easy  coleman_liau_index  \\\n",
       "0        0             11.190000            10.935000           15.711667   \n",
       "1        1              8.756667            30.968333           12.961667   \n",
       "2        2              9.973333            20.951667           14.336667   \n",
       "3        3              7.540000            40.985000           11.586667   \n",
       "4        4             12.406667             0.918333           19.378333   \n",
       "\n",
       "   smog_index  automated_readability_index   lix  \n",
       "0   12.553280                    16.667667  87.0  \n",
       "1    8.891154                    13.537667  87.0  \n",
       "2   12.553280                    15.102667  87.0  \n",
       "3    8.891154                    11.972667  87.0  \n",
       "4   15.363328                    20.841000  87.0  "
      ]
     },
     "execution_count": 40,
     "metadata": {},
     "output_type": "execute_result"
    }
   ],
   "source": [
    "df = pd.DataFrame([{**{'text_id': text_id}, **metrics} for text_id, metrics in res])\n",
    "df.head()"
   ]
  },
  {
   "cell_type": "code",
   "execution_count": 45,
   "id": "6cc9920f",
   "metadata": {},
   "outputs": [],
   "source": [
    "\n",
    "# Calculate statistics\n",
    "stats = df.drop(columns='text_id').agg(['mean', 'std', 'min', 'max'])\n",
    "\n",
    "# For pandas versions that don't have 'range' directly, use:\n",
    "stats.loc['range'] = df.drop(columns='text_id').agg(lambda x: x.max() - x.min())"
   ]
  },
  {
   "cell_type": "code",
   "execution_count": 46,
   "id": "b256242a",
   "metadata": {},
   "outputs": [
    {
     "data": {
      "text/html": [
       "<div>\n",
       "<style scoped>\n",
       "    .dataframe tbody tr th:only-of-type {\n",
       "        vertical-align: middle;\n",
       "    }\n",
       "\n",
       "    .dataframe tbody tr th {\n",
       "        vertical-align: top;\n",
       "    }\n",
       "\n",
       "    .dataframe thead th {\n",
       "        text-align: right;\n",
       "    }\n",
       "</style>\n",
       "<table border=\"1\" class=\"dataframe\">\n",
       "  <thead>\n",
       "    <tr style=\"text-align: right;\">\n",
       "      <th></th>\n",
       "      <th>flesch_kincaid_grade</th>\n",
       "      <th>flesch_reading_easy</th>\n",
       "      <th>coleman_liau_index</th>\n",
       "      <th>smog_index</th>\n",
       "      <th>automated_readability_index</th>\n",
       "      <th>lix</th>\n",
       "    </tr>\n",
       "  </thead>\n",
       "  <tbody>\n",
       "    <tr>\n",
       "      <th>mean</th>\n",
       "      <td>9.225862</td>\n",
       "      <td>28.643445</td>\n",
       "      <td>12.689198</td>\n",
       "      <td>14.978185</td>\n",
       "      <td>13.251896</td>\n",
       "      <td>76.523669</td>\n",
       "    </tr>\n",
       "    <tr>\n",
       "      <th>std</th>\n",
       "      <td>2.605239</td>\n",
       "      <td>22.071924</td>\n",
       "      <td>4.366695</td>\n",
       "      <td>3.783336</td>\n",
       "      <td>4.961226</td>\n",
       "      <td>12.496907</td>\n",
       "    </tr>\n",
       "    <tr>\n",
       "      <th>min</th>\n",
       "      <td>4.498333</td>\n",
       "      <td>-15.083182</td>\n",
       "      <td>3.884286</td>\n",
       "      <td>8.891154</td>\n",
       "      <td>3.292714</td>\n",
       "      <td>51.461538</td>\n",
       "    </tr>\n",
       "    <tr>\n",
       "      <th>max</th>\n",
       "      <td>14.018182</td>\n",
       "      <td>68.435000</td>\n",
       "      <td>22.488182</td>\n",
       "      <td>21.706315</td>\n",
       "      <td>24.401864</td>\n",
       "      <td>95.333333</td>\n",
       "    </tr>\n",
       "    <tr>\n",
       "      <th>range</th>\n",
       "      <td>9.519848</td>\n",
       "      <td>83.518182</td>\n",
       "      <td>18.603896</td>\n",
       "      <td>12.815162</td>\n",
       "      <td>21.109149</td>\n",
       "      <td>43.871795</td>\n",
       "    </tr>\n",
       "  </tbody>\n",
       "</table>\n",
       "</div>"
      ],
      "text/plain": [
       "       flesch_kincaid_grade  flesch_reading_easy  coleman_liau_index  \\\n",
       "mean               9.225862            28.643445           12.689198   \n",
       "std                2.605239            22.071924            4.366695   \n",
       "min                4.498333           -15.083182            3.884286   \n",
       "max               14.018182            68.435000           22.488182   \n",
       "range              9.519848            83.518182           18.603896   \n",
       "\n",
       "       smog_index  automated_readability_index        lix  \n",
       "mean    14.978185                    13.251896  76.523669  \n",
       "std      3.783336                     4.961226  12.496907  \n",
       "min      8.891154                     3.292714  51.461538  \n",
       "max     21.706315                    24.401864  95.333333  \n",
       "range   12.815162                    21.109149  43.871795  "
      ]
     },
     "execution_count": 46,
     "metadata": {},
     "output_type": "execute_result"
    }
   ],
   "source": [
    "stats"
   ]
  },
  {
   "cell_type": "code",
   "execution_count": 29,
   "id": "f80b509d",
   "metadata": {},
   "outputs": [
    {
     "data": {
      "text/plain": [
       "{'flesch_kincaid_grade': 2.926666666666666,\n",
       " 'flesch_reading_easy': 87.16833333333334,\n",
       " 'coleman_liau_index': 1.1700000000000053,\n",
       " 'smog_index': 0.05,\n",
       " 'automated_readability_index': 0.2941666666666656,\n",
       " 'lix': 35.0}"
      ]
     },
     "execution_count": 29,
     "metadata": {},
     "output_type": "execute_result"
    }
   ],
   "source": [
    "text = \"Ног нет, а хожу, рта нет, а скажу: когда спать, когда вставать, когда работу начинать\"\n",
    "\n",
    "# Вычисление метрик\n",
    "rs = ReadabilityStats(text)\n",
    "rs.get_stats()"
   ]
  }
 ],
 "metadata": {
  "kernelspec": {
   "display_name": "venv",
   "language": "python",
   "name": "python3"
  },
  "language_info": {
   "codemirror_mode": {
    "name": "ipython",
    "version": 3
   },
   "file_extension": ".py",
   "mimetype": "text/x-python",
   "name": "python",
   "nbconvert_exporter": "python",
   "pygments_lexer": "ipython3",
   "version": "3.11.9"
  }
 },
 "nbformat": 4,
 "nbformat_minor": 5
}
